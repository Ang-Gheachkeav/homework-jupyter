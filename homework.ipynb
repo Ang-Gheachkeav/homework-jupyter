{
 "cells": [
  {
   "cell_type": "code",
   "execution_count": 5,
   "id": "838e3e06-9099-48b6-a823-a87c60062d06",
   "metadata": {},
   "outputs": [
    {
     "name": "stdin",
     "output_type": "stream",
     "text": [
      "enter your first name:  ANG\n"
     ]
    },
    {
     "name": "stdout",
     "output_type": "stream",
     "text": [
      "hello ANG\n"
     ]
    }
   ],
   "source": [
    "def firstname():\n",
    "    \n",
    "    firstname = input(\"enter your first name: \")\n",
    "\n",
    "    print(\"hello \"+firstname)\n",
    "    \n",
    "firstname()"
   ]
  },
  {
   "cell_type": "code",
   "execution_count": 4,
   "id": "c957a7f7-b0f9-4c54-a666-289e8eccfe77",
   "metadata": {},
   "outputs": [
    {
     "name": "stdin",
     "output_type": "stream",
     "text": [
      "enter your first name:  ANG\n",
      "enter your surname:  GHEACHKEAV\n"
     ]
    },
    {
     "name": "stdout",
     "output_type": "stream",
     "text": [
      "hello ANG GHEACHKEAV\n"
     ]
    }
   ],
   "source": [
    "def firstsurname():\n",
    "\n",
    "    firstname = input(\"enter your first name: \")\n",
    "    surname = input(\"enter your surname: \") \n",
    "\n",
    "    print(\"hello \"+firstname+' '+surname)\n",
    "\n",
    "firstsurname()"
   ]
  },
  {
   "cell_type": "code",
   "execution_count": 6,
   "id": "319e8217-e5eb-42ff-ad64-55bfec7cc359",
   "metadata": {},
   "outputs": [
    {
     "name": "stdout",
     "output_type": "stream",
     "text": [
      "what do you call a bear with no teeth?\n",
      "A gummy bear\n"
     ]
    }
   ],
   "source": [
    "print(\"what do you call a bear with no teeth?\\nA gummy bear\")"
   ]
  },
  {
   "cell_type": "code",
   "execution_count": 7,
   "id": "81e8ac47-b255-4a50-ab4e-1ba5c140c564",
   "metadata": {},
   "outputs": [
    {
     "name": "stdin",
     "output_type": "stream",
     "text": [
      "enter the first number 15\n",
      "enter the second number 23\n"
     ]
    },
    {
     "name": "stdout",
     "output_type": "stream",
     "text": [
      "the sum of 15.0 and 23.0 is 38.0\n"
     ]
    }
   ],
   "source": [
    "num1 = float(input(\"enter the first number\"))\n",
    "num2 = float(input(\"enter the second number\"))\n",
    "sum = num1 + num2 \n",
    "print(\"the sum of\",num1,\"and\",num2,\"is\",sum)"
   ]
  },
  {
   "cell_type": "code",
   "execution_count": 8,
   "id": "e4b71194-eb29-4179-be30-76ee401d4ed8",
   "metadata": {},
   "outputs": [
    {
     "name": "stdin",
     "output_type": "stream",
     "text": [
      " 12\n",
      " 2\n",
      " 2\n"
     ]
    },
    {
     "name": "stdout",
     "output_type": "stream",
     "text": [
      "28\n"
     ]
    }
   ],
   "source": [
    "num1 = int(input())\n",
    "num2 = int(input())\n",
    "num3 = int(input())\n",
    "result = (num1+num2)*num3\n",
    "print (result)"
   ]
  },
  {
   "cell_type": "code",
   "execution_count": 10,
   "id": "595eb213-6971-4262-bc69-98b3f8d61933",
   "metadata": {},
   "outputs": [
    {
     "name": "stdin",
     "output_type": "stream",
     "text": [
      "how many slices they have eaten? 6\n",
      "how many slices they have left? 2\n"
     ]
    },
    {
     "name": "stdout",
     "output_type": "stream",
     "text": [
      "2\n"
     ]
    }
   ],
   "source": [
    "import math\n",
    "eaters = input(\"how many slices they have eaten?\")\n",
    "\n",
    "pieces = input(\"how many slices they have left?\")\n",
    "\n",
    "pizzas = float(eaters)*float(pieces)\n",
    "order_needed = math.ceil(pizzas/8)\n",
    "print(order_needed)"
   ]
  },
  {
   "cell_type": "code",
   "execution_count": 11,
   "id": "673f8517-946f-418c-b727-9826ec3973ea",
   "metadata": {},
   "outputs": [
    {
     "name": "stdin",
     "output_type": "stream",
     "text": [
      "how old are you? 19\n"
     ]
    },
    {
     "name": "stdout",
     "output_type": "stream",
     "text": [
      "on the next birthdat you will be20year old\n"
     ]
    }
   ],
   "source": [
    "age = int(input(\"how old are you?\"))\n",
    "age += 1\n",
    "print(\"on the next birthdat you will be\" + str(age) + \"year old\")"
   ]
  },
  {
   "cell_type": "code",
   "execution_count": 14,
   "id": "5195c44f-516d-4a68-8fe5-cd60284386ea",
   "metadata": {},
   "outputs": [
    {
     "name": "stdin",
     "output_type": "stream",
     "text": [
      "what is the total bill?: 100\n",
      "how many diners are?: 20\n"
     ]
    },
    {
     "name": "stdout",
     "output_type": "stream",
     "text": [
      "5.0\n"
     ]
    }
   ],
   "source": [
    "def totalbill():\n",
    "    totalbill = int(input(\"what is the total bill?:\"))\n",
    "    diners = int(input(\"how many diners are?:\"))\n",
    "\n",
    "    return totalbill/diners\n",
    "    \n",
    "print(totalbill())"
   ]
  },
  {
   "cell_type": "code",
   "execution_count": 5,
   "id": "c5c73e4a-d83c-4f19-9f05-cfc5ec4745bc",
   "metadata": {},
   "outputs": [
    {
     "name": "stdin",
     "output_type": "stream",
     "text": [
      "enter total days 5\n"
     ]
    },
    {
     "name": "stdout",
     "output_type": "stream",
     "text": [
      "total days: 5\n",
      "total hours: 120\n",
      "total minutes: 7200\n",
      "total seconds: 432000\n"
     ]
    }
   ],
   "source": [
    "days = int(input(\"enter total days\"))\n",
    "hours = 24*days\n",
    "minutes = 60*hours\n",
    "seconds = 60*minutes\n",
    "print(\"total days:\",days)\n",
    "print(\"total hours:\",hours)\n",
    "print(\"total minutes:\",minutes)\n",
    "print(\"total seconds:\",seconds)"
   ]
  },
  {
   "cell_type": "code",
   "execution_count": 2,
   "id": "eae690e8-d444-495f-a4b7-58d8f1e49edb",
   "metadata": {},
   "outputs": [
    {
     "name": "stdin",
     "output_type": "stream",
     "text": [
      "enter the weight in pound: 2204\n"
     ]
    },
    {
     "name": "stdout",
     "output_type": "stream",
     "text": [
      "the weight in kg is 1001.82\n"
     ]
    }
   ],
   "source": [
    "pound = float(input(\"enter the weight in pound:\"))\n",
    "kg = pound/2.2\n",
    "print(\"the weight in kg is\",round(kg,2))"
   ]
  },
  {
   "cell_type": "code",
   "execution_count": 6,
   "id": "ae7b9ad0-b778-4efb-afde-9dca3aba0e21",
   "metadata": {},
   "outputs": [
    {
     "name": "stdin",
     "output_type": "stream",
     "text": [
      "enter a number over 100 120\n",
      "enter a number under 10 7\n"
     ]
    },
    {
     "name": "stdout",
     "output_type": "stream",
     "text": [
      "7 goes into 120 17 times\n"
     ]
    }
   ],
   "source": [
    "larger = int(input(\"enter a number over 100\"))\n",
    "smaller = int(input(\"enter a number under 10\"))\n",
    "answer = larger//smaller\n",
    "print(smaller,\"goes into\",larger,answer,\"times\")"
   ]
  },
  {
   "cell_type": "code",
   "execution_count": 13,
   "id": "506f421d-4c28-428b-8348-dece85673943",
   "metadata": {},
   "outputs": [
    {
     "name": "stdin",
     "output_type": "stream",
     "text": [
      "enter first number 14\n",
      "enter second number 13\n"
     ]
    },
    {
     "name": "stdout",
     "output_type": "stream",
     "text": [
      "13 14\n"
     ]
    }
   ],
   "source": [
    "num1 = int(input(\"enter first number\"))\n",
    "num2 = int(input(\"enter second number\"))\n",
    "if num1 > num2:\n",
    "    print (num2,num1)\n",
    "else:\n",
    "    print (num1,num2)"
   ]
  },
  {
   "cell_type": "code",
   "execution_count": null,
   "id": "d74a5b1c-f495-43d8-95cf-6e59fad620e1",
   "metadata": {},
   "outputs": [],
   "source": []
  }
 ],
 "metadata": {
  "kernelspec": {
   "display_name": "Python 3 (ipykernel)",
   "language": "python",
   "name": "python3"
  },
  "language_info": {
   "codemirror_mode": {
    "name": "ipython",
    "version": 3
   },
   "file_extension": ".py",
   "mimetype": "text/x-python",
   "name": "python",
   "nbconvert_exporter": "python",
   "pygments_lexer": "ipython3",
   "version": "3.11.7"
  }
 },
 "nbformat": 4,
 "nbformat_minor": 5
}
